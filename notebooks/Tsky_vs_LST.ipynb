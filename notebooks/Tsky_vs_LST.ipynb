{
 "cells": [
  {
   "cell_type": "code",
   "execution_count": 21,
   "metadata": {},
   "outputs": [],
   "source": [
    "from astropy.io import fits\n",
    "from pygsm import GSMObserver\n",
    "import numpy as np\n",
    "from scipy import interpolate\n",
    "from datetime import datetime\n",
    "from astropy.time import Time\n",
    "import matplotlib.pyplot as plt\n",
    "import healpy as hp\n",
    "import time"
   ]
  },
  {
   "cell_type": "code",
   "execution_count": 48,
   "metadata": {},
   "outputs": [],
   "source": [
    "hera_beam_file = '/Users/tyler/Desktop/Research/Tsys/data/HERA_beam_nic.hmap'\n",
    "\n",
    "df = 1.5625  # 100 MHz / 64 averaged channels\n",
    "freqs = np.arange(100.0 + df / 2.0, 200.0, df)\n",
    "hours = np.arange(0.0, 24.0, .5)\n",
    "lsts = np.zeros_like(hours)\n",
    "pols = ['X', 'Y']  # Only have X beam, but try rotating 90 degrees for Y\n",
    "HERA_Tsky = np.zeros((len(pols), freqs.shape[0], lsts.shape[0]))"
   ]
  },
  {
   "cell_type": "code",
   "execution_count": 23,
   "metadata": {},
   "outputs": [],
   "source": [
    "# Read in HERA beam data, just use full sky for paper\n",
    "hera_beam = {}\n",
    "# Only have X right now, will rotate later\n",
    "hera_im = fits.getdata(hera_beam_file, extname='BEAM_{0}'.format('X'))\n",
    "nside = hp.npix2nside(hera_im.shape[0])\n",
    "temp_f = fits.getdata(hera_beam_file, extname='FREQS_{0}'.format('X'))\n",
    "# Interpolate to the desired frequencies\n",
    "func = interpolate.interp1d(temp_f, hera_im, kind='cubic', axis=1)\n",
    "\n",
    "for pol in pols:\n",
    "    hera_beam[pol] = func(freqs)"
   ]
  },
  {
   "cell_type": "code",
   "execution_count": 24,
   "metadata": {},
   "outputs": [],
   "source": [
    "# Set up the observer\n",
    "(latitude, longitude, elevation) = ('-30.7224', '21.4278', 1100)\n",
    "ov = GSMObserver()\n",
    "ov.lon = longitude\n",
    "ov.lat = latitude\n",
    "ov.elev = elevation"
   ]
  },
  {
   "cell_type": "code",
   "execution_count": 25,
   "metadata": {},
   "outputs": [],
   "source": [
    "proj_sky = hp.projector.OrthographicProj(rot=[0,0,0], half_sky=True, xsize=400)\n",
    "f = lambda x,y,z: hp.pixelfunc.vec2pix(nside,x,y,z,nest=False)"
   ]
  },
  {
   "cell_type": "code",
   "execution_count": 32,
   "metadata": {},
   "outputs": [
    {
     "name": "stdout",
     "output_type": "stream",
     "text": [
      "Forming HERA Tsky for frequency 100.78125 MHz.\n"
     ]
    }
   ],
   "source": [
    "vals = []\n",
    "\n",
    "for poli, pol in enumerate(pols[:1]):\n",
    "    pol_ang = 90 * (1 - poli)  # Extra rotation for X\n",
    "    proj_beam = hp.projector.OrthographicProj(rot=[pol_ang,90], half_sky=True, xsize=400)\n",
    "    for fi, freq in enumerate(freqs[:1]):\n",
    "        \n",
    "        print 'Forming HERA Tsky for frequency ' + str(freq) + ' MHz.'\n",
    "    \n",
    "        #deg = 8\n",
    "\n",
    "        #smoothed_beam = hp.sphtfunc.smoothing(hera_beam[pol][:, fi], fwhm=0.017*deg)\n",
    "        hbeam1 = proj_beam.projmap(hera_beam[pol][:, fi], f)\n",
    "        hbeam1[np.isinf(hbeam1)] = np.nan\n",
    "\n",
    "        for ti, t in enumerate(hours[:]):\n",
    "            dt = datetime(2013, 1, 1, np.int(t), np.int(60.0 * (t - np.floor(t))),\n",
    "                          np.int(60.0 * (60.0 * t - np.floor(t * 60.0))))\n",
    "            lsts[ti] = Time(dt).sidereal_time('apparent', longitude).hour\n",
    "            ov.date = dt\n",
    "            observed_sky = ov.generate(freq)\n",
    "            nside_sky = hp.pixelfunc.npix2nside(hp.pixelfunc.get_map_size(observed_sky))\n",
    "            f_sky = lambda x,y,z: hp.pixelfunc.vec2pix(nside_sky,x,y,z, nest=False)\n",
    "            sky = proj_sky.projmap(observed_sky, f_sky)\n",
    "            sky[np.isinf(sky)] = np.nan\n",
    "            HERA_Tsky[poli, fi, ti] = np.nanmean(hbeam1 * sky) / np.nanmean(hbeam1)\n",
    "            vals.append(np.nanmean(hbeam1 * sky) / np.nanmean(hbeam1))"
   ]
  }
 ],
 "metadata": {
  "kernelspec": {
   "display_name": "Python 2",
   "language": "python",
   "name": "python2"
  },
  "language_info": {
   "codemirror_mode": {
    "name": "ipython",
    "version": 2
   },
   "file_extension": ".py",
   "mimetype": "text/x-python",
   "name": "python",
   "nbconvert_exporter": "python",
   "pygments_lexer": "ipython2",
   "version": "2.7.14"
  }
 },
 "nbformat": 4,
 "nbformat_minor": 2
}
