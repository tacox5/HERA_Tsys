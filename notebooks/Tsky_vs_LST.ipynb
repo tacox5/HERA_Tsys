{
 "cells": [
  {
   "cell_type": "code",
   "execution_count": 1,
   "metadata": {},
   "outputs": [
    {
     "name": "stderr",
     "output_type": "stream",
     "text": [
      "/anaconda2/lib/python2.7/site-packages/h5py/__init__.py:36: FutureWarning: Conversion of the second argument of issubdtype from `float` to `np.floating` is deprecated. In future, it will be treated as `np.float64 == np.dtype(float).type`.\n",
      "  from ._conv import register_converters as _register_converters\n"
     ]
    }
   ],
   "source": [
    "from astropy.io import fits\n",
    "from pygsm import GSMObserver\n",
    "import numpy as np\n",
    "from scipy import interpolate\n",
    "from datetime import datetime\n",
    "from astropy.time import Time\n",
    "import matplotlib.pyplot as plt\n",
    "import healpy as hp\n",
    "import time"
   ]
  },
  {
   "cell_type": "code",
   "execution_count": 48,
   "metadata": {},
   "outputs": [],
   "source": [
    "hera_beam_file = '/Users/tyler/Desktop/Research/Tsys/data/HERA_beam_nic.hmap'\n",
    "\n",
    "df = 1.5625  # 100 MHz / 64 averaged channels\n",
    "freqs = np.arange(100.0 + df / 2.0, 200.0, df)\n",
    "hours = np.arange(0.0, 24.0, .5)\n",
    "lsts = np.zeros_like(hours)\n",
    "pols = ['X', 'Y']  # Only have X beam, but try rotating 90 degrees for Y\n",
    "HERA_Tsky = np.zeros((len(pols), freqs.shape[0], lsts.shape[0]))"
   ]
  },
  {
   "cell_type": "code",
   "execution_count": 23,
   "metadata": {},
   "outputs": [],
   "source": [
    "# Read in HERA beam data, just use full sky for paper\n",
    "hera_beam = {}\n",
    "# Only have X right now, will rotate later\n",
    "hera_im = fits.getdata(hera_beam_file, extname='BEAM_{0}'.format('X'))\n",
    "nside = hp.npix2nside(hera_im.shape[0])\n",
    "temp_f = fits.getdata(hera_beam_file, extname='FREQS_{0}'.format('X'))\n",
    "# Interpolate to the desired frequencies\n",
    "func = interpolate.interp1d(temp_f, hera_im, kind='cubic', axis=1)\n",
    "\n",
    "for pol in pols:\n",
    "    hera_beam[pol] = func(freqs)"
   ]
  },
  {
   "cell_type": "code",
   "execution_count": 24,
   "metadata": {},
   "outputs": [],
   "source": [
    "# Set up the observer\n",
    "(latitude, longitude, elevation) = ('-30.7224', '21.4278', 1100)\n",
    "ov = GSMObserver()\n",
    "ov.lon = longitude\n",
    "ov.lat = latitude\n",
    "ov.elev = elevation"
   ]
  },
  {
   "cell_type": "code",
   "execution_count": 25,
   "metadata": {},
   "outputs": [],
   "source": [
    "proj_sky = hp.projector.OrthographicProj(rot=[0,0,0], half_sky=True, xsize=400)\n",
    "f = lambda x,y,z: hp.pixelfunc.vec2pix(nside,x,y,z,nest=False)"
   ]
  },
  {
   "cell_type": "code",
   "execution_count": 32,
   "metadata": {},
   "outputs": [
    {
     "name": "stdout",
     "output_type": "stream",
     "text": [
      "Forming HERA Tsky for frequency 100.78125 MHz.\n"
     ]
    }
   ],
   "source": [
    "vals = []\n",
    "\n",
    "for poli, pol in enumerate(pols[:1]):\n",
    "    pol_ang = 90 * (1 - poli)  # Extra rotation for X\n",
    "    proj_beam = hp.projector.OrthographicProj(rot=[pol_ang,90], half_sky=True, xsize=400)\n",
    "    for fi, freq in enumerate(freqs[:1]):\n",
    "        \n",
    "        print 'Forming HERA Tsky for frequency ' + str(freq) + ' MHz.'\n",
    "    \n",
    "        #deg = 8\n",
    "\n",
    "        #smoothed_beam = hp.sphtfunc.smoothing(hera_beam[pol][:, fi], fwhm=0.017*deg)\n",
    "        hbeam1 = proj_beam.projmap(hera_beam[pol][:, fi], f)\n",
    "        hbeam1[np.isinf(hbeam1)] = np.nan\n",
    "\n",
    "        for ti, t in enumerate(hours[:]):\n",
    "            dt = datetime(2013, 1, 1, np.int(t), np.int(60.0 * (t - np.floor(t))),\n",
    "                          np.int(60.0 * (60.0 * t - np.floor(t * 60.0))))\n",
    "            lsts[ti] = Time(dt).sidereal_time('apparent', longitude).hour\n",
    "            ov.date = dt\n",
    "            observed_sky = ov.generate(freq)\n",
    "            nside_sky = hp.pixelfunc.npix2nside(hp.pixelfunc.get_map_size(observed_sky))\n",
    "            f_sky = lambda x,y,z: hp.pixelfunc.vec2pix(nside_sky,x,y,z, nest=False)\n",
    "            sky = proj_sky.projmap(observed_sky, f_sky)\n",
    "            sky[np.isinf(sky)] = np.nan\n",
    "            HERA_Tsky[poli, fi, ti] = np.nanmean(hbeam1 * sky) / np.nanmean(hbeam1)\n",
    "            vals.append(np.nanmean(hbeam1 * sky) / np.nanmean(hbeam1))"
   ]
  },
  {
   "cell_type": "code",
   "execution_count": 7,
   "metadata": {},
   "outputs": [
    {
     "data": {
      "text/plain": [
       "array([[[685.19348255, 671.78865373, 653.78848553, ..., 637.84110478,\n",
       "         659.65420884, 683.96911164],\n",
       "        [659.9549121 , 647.44259409, 630.24098831, ..., 610.09198922,\n",
       "         632.62776398, 657.75329425],\n",
       "        [636.49654312, 624.49340447, 607.98299739, ..., 585.90794269,\n",
       "         608.77742143, 633.99392104],\n",
       "        ...,\n",
       "        [123.76249384, 120.69251452, 118.00905597, ..., 108.59081461,\n",
       "         117.72646236, 124.38872548],\n",
       "        [121.22988256, 118.28704087, 115.6768673 , ..., 106.35914292,\n",
       "         115.30518062, 121.80250369],\n",
       "        [118.83891778, 115.99524533, 113.44676428, ..., 104.20414904,\n",
       "         112.99192596, 119.37509479]],\n",
       "\n",
       "       [[690.52702513, 673.71952583, 653.81078905, ..., 634.77194806,\n",
       "         664.25467244, 691.61567762],\n",
       "        [667.60679745, 649.83350357, 629.96690521, ..., 612.18541036,\n",
       "         643.69122395, 670.25193613],\n",
       "        [645.88943828, 627.24503845, 607.50034865, ..., 593.17068869,\n",
       "         625.48707373, 650.34779192],\n",
       "        ...,\n",
       "        [123.67417126, 120.68272017, 118.1108512 , ..., 107.82576945,\n",
       "         117.13041885, 124.10492132],\n",
       "        [121.07890302, 118.19324544, 115.69766218, ..., 105.59072665,\n",
       "         114.54291334, 121.38765931],\n",
       "        [118.73164271, 115.87396543, 113.42161525, ..., 103.56380076,\n",
       "         112.23403852, 118.97724636]]])"
      ]
     },
     "execution_count": 7,
     "metadata": {},
     "output_type": "execute_result"
    }
   ],
   "source": [
    "for i in np.arange(old_sky.shape[0]):\n",
    "    for j in np.arange(old_sky.shape[1]):\n",
    "        plt.plot((old_sky[i,j,:] - new_sky[i,j,:])/"
   ]
  }
 ],
 "metadata": {
  "kernelspec": {
   "display_name": "Python 2",
   "language": "python",
   "name": "python2"
  },
  "language_info": {
   "codemirror_mode": {
    "name": "ipython",
    "version": 2
   },
   "file_extension": ".py",
   "mimetype": "text/x-python",
   "name": "python",
   "nbconvert_exporter": "python",
   "pygments_lexer": "ipython2",
   "version": "2.7.14"
  }
 },
 "nbformat": 4,
 "nbformat_minor": 2
}
